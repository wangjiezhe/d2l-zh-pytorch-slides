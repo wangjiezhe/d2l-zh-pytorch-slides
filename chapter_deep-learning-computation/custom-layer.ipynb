{
 "cells": [
  {
   "cell_type": "markdown",
   "id": "e91e1a31",
   "metadata": {
    "slideshow": {
     "slide_type": "-"
    }
   },
   "source": [
    "# 自定义层\n",
    "\n",
    "构造一个没有任何参数的自定义层"
   ]
  },
  {
   "cell_type": "code",
   "execution_count": 1,
   "id": "dec68045",
   "metadata": {
    "execution": {
     "iopub.execute_input": "2023-08-18T07:07:17.497408Z",
     "iopub.status.busy": "2023-08-18T07:07:17.497077Z",
     "iopub.status.idle": "2023-08-18T07:07:17.508357Z",
     "shell.execute_reply": "2023-08-18T07:07:17.507175Z"
    },
    "origin_pos": 7,
    "tab": [
     "pytorch"
    ]
   },
   "outputs": [
    {
     "data": {
      "text/plain": [
       "tensor([-2., -1.,  0.,  1.,  2.])"
      ]
     },
     "execution_count": 1,
     "metadata": {},
     "output_type": "execute_result"
    }
   ],
   "source": [
    "import torch\n",
    "import torch.nn.functional as F\n",
    "from torch import nn\n",
    "\n",
    "\n",
    "class CenteredLayer(nn.Module):\n",
    "    def __init__(self):\n",
    "        super().__init__()\n",
    "\n",
    "    def forward(self, X):\n",
    "        return X - X.mean()\n",
    "\n",
    "layer = CenteredLayer()\n",
    "layer(torch.FloatTensor([1, 2, 3, 4, 5]))"
   ]
  },
  {
   "cell_type": "markdown",
   "id": "05f8a223",
   "metadata": {
    "slideshow": {
     "slide_type": "slide"
    }
   },
   "source": [
    "将层作为组件合并到更复杂的模型中"
   ]
  },
  {
   "cell_type": "code",
   "execution_count": 2,
   "id": "6ab302a0",
   "metadata": {
    "execution": {
     "iopub.execute_input": "2023-08-18T07:07:17.523517Z",
     "iopub.status.busy": "2023-08-18T07:07:17.523140Z",
     "iopub.status.idle": "2023-08-18T07:07:17.534718Z",
     "shell.execute_reply": "2023-08-18T07:07:17.533593Z"
    },
    "origin_pos": 16,
    "tab": [
     "pytorch"
    ]
   },
   "outputs": [
    {
     "data": {
      "text/plain": [
       "tensor(2.7940e-09, grad_fn=<MeanBackward0>)"
      ]
     },
     "execution_count": 2,
     "metadata": {},
     "output_type": "execute_result"
    }
   ],
   "source": [
    "net = nn.Sequential(nn.Linear(8, 128), CenteredLayer())\n",
    "\n",
    "Y = net(torch.rand(4, 8))\n",
    "Y.mean()"
   ]
  },
  {
   "cell_type": "markdown",
   "id": "568d0d74",
   "metadata": {
    "slideshow": {
     "slide_type": "slide"
    }
   },
   "source": [
    "带参数的层"
   ]
  },
  {
   "cell_type": "code",
   "execution_count": 3,
   "id": "4490005a",
   "metadata": {
    "execution": {
     "iopub.execute_input": "2023-08-18T07:07:17.550522Z",
     "iopub.status.busy": "2023-08-18T07:07:17.550152Z",
     "iopub.status.idle": "2023-08-18T07:07:17.558364Z",
     "shell.execute_reply": "2023-08-18T07:07:17.557338Z"
    },
    "origin_pos": 28,
    "tab": [
     "pytorch"
    ]
   },
   "outputs": [
    {
     "data": {
      "text/plain": [
       "Parameter containing:\n",
       "tensor([[ 1.9832,  0.9289,  1.3470],\n",
       "        [-1.1857, -0.9701,  0.0247],\n",
       "        [-1.4844,  0.3752,  2.1760],\n",
       "        [-0.7389, -0.4874, -0.7060],\n",
       "        [ 1.4744, -1.3758,  0.6738]], requires_grad=True)"
      ]
     },
     "execution_count": 3,
     "metadata": {},
     "output_type": "execute_result"
    }
   ],
   "source": [
    "class MyLinear(nn.Module):\n",
    "    def __init__(self, in_units, units):\n",
    "        super().__init__()\n",
    "        self.weight = nn.Parameter(torch.randn(in_units, units))\n",
    "        self.bias = nn.Parameter(torch.randn(units,))\n",
    "    def forward(self, X):\n",
    "        linear = torch.matmul(X, self.weight.data) + self.bias.data\n",
    "        return F.relu(linear)\n",
    "\n",
    "linear = MyLinear(5, 3)\n",
    "linear.weight"
   ]
  },
  {
   "cell_type": "markdown",
   "id": "9c8d6fca",
   "metadata": {
    "slideshow": {
     "slide_type": "slide"
    }
   },
   "source": [
    "使用自定义层直接执行前向传播计算"
   ]
  },
  {
   "cell_type": "code",
   "execution_count": 4,
   "id": "25f2aabf",
   "metadata": {
    "execution": {
     "iopub.execute_input": "2023-08-18T07:07:17.562706Z",
     "iopub.status.busy": "2023-08-18T07:07:17.562337Z",
     "iopub.status.idle": "2023-08-18T07:07:17.570015Z",
     "shell.execute_reply": "2023-08-18T07:07:17.568916Z"
    },
    "origin_pos": 32,
    "tab": [
     "pytorch"
    ]
   },
   "outputs": [
    {
     "data": {
      "text/plain": [
       "tensor([[0.5338, 0.0880, 2.1402],\n",
       "        [0.0000, 0.0000, 0.3480]])"
      ]
     },
     "execution_count": 4,
     "metadata": {},
     "output_type": "execute_result"
    }
   ],
   "source": [
    "linear(torch.rand(2, 5))"
   ]
  },
  {
   "cell_type": "markdown",
   "id": "393a154e",
   "metadata": {
    "slideshow": {
     "slide_type": "-"
    }
   },
   "source": [
    "使用自定义层构建模型"
   ]
  },
  {
   "cell_type": "code",
   "execution_count": 5,
   "id": "fb2953e8",
   "metadata": {
    "execution": {
     "iopub.execute_input": "2023-08-18T07:07:17.574378Z",
     "iopub.status.busy": "2023-08-18T07:07:17.574000Z",
     "iopub.status.idle": "2023-08-18T07:07:17.582792Z",
     "shell.execute_reply": "2023-08-18T07:07:17.581735Z"
    },
    "origin_pos": 37,
    "tab": [
     "pytorch"
    ]
   },
   "outputs": [
    {
     "data": {
      "text/plain": [
       "tensor([[14.3284],\n",
       "        [10.8282]])"
      ]
     },
     "execution_count": 5,
     "metadata": {},
     "output_type": "execute_result"
    }
   ],
   "source": [
    "net = nn.Sequential(MyLinear(64, 8), MyLinear(8, 1))\n",
    "net(torch.rand(2, 64))"
   ]
  },
  {
   "cell_type": "markdown",
   "metadata": {},
   "source": [
    "## 练习"
   ]
  },
  {
   "cell_type": "markdown",
   "metadata": {},
   "source": [
    "1. 设计一个接受输入并计算张量降维的层，它返回 $y_k=\\sum_{i,j} W_{ijk}x_ix_j$。"
   ]
  },
  {
   "cell_type": "code",
   "execution_count": 21,
   "metadata": {},
   "outputs": [],
   "source": [
    "class ReductionLayer(nn.Module):\n",
    "  def __init__(self, in_units, units):\n",
    "    super().__init__()\n",
    "    self.weight = nn.Parameter(torch.randn((in_units, in_units, units)))\n",
    "    \n",
    "  def forward(self, X):\n",
    "    return X @ self.weight.transpose(0, -1) @ X"
   ]
  },
  {
   "cell_type": "code",
   "execution_count": 22,
   "metadata": {},
   "outputs": [
    {
     "data": {
      "text/plain": [
       "tensor([  0.9289, -27.8902, -32.8991, -28.9719], grad_fn=<MvBackward0>)"
      ]
     },
     "execution_count": 22,
     "metadata": {},
     "output_type": "execute_result"
    }
   ],
   "source": [
    "net = ReductionLayer(64, 4)\n",
    "net(torch.rand(64))"
   ]
  },
  {
   "cell_type": "markdown",
   "metadata": {},
   "source": [
    "2. 设计一个返回输入数据的傅立叶系数前半部分的层。"
   ]
  },
  {
   "cell_type": "code",
   "execution_count": 8,
   "metadata": {},
   "outputs": [],
   "source": [
    "import numpy as np\n",
    "\n",
    "# 生成一些示例数据，比如一个正弦波\n",
    "fs = 1000  # 采样率\n",
    "t = torch.arange(0, 1, 1/fs)  # 时间数组\n",
    "f = 5  # 正弦波频率\n",
    "signal = torch.sin(2 * np.pi * f * t)"
   ]
  },
  {
   "cell_type": "code",
   "execution_count": 10,
   "metadata": {},
   "outputs": [
    {
     "data": {
      "text/plain": [
       "torch.Size([1000])"
      ]
     },
     "execution_count": 10,
     "metadata": {},
     "output_type": "execute_result"
    }
   ],
   "source": [
    "signal.shape"
   ]
  },
  {
   "cell_type": "code",
   "execution_count": 17,
   "metadata": {},
   "outputs": [
    {
     "data": {
      "text/plain": [
       "torch.Size([1000])"
      ]
     },
     "execution_count": 17,
     "metadata": {},
     "output_type": "execute_result"
    }
   ],
   "source": [
    "torch.fft.fft(signal).shape"
   ]
  },
  {
   "cell_type": "code",
   "execution_count": 27,
   "metadata": {},
   "outputs": [],
   "source": [
    "class HalfFFTLayer(nn.Module):\n",
    "  def __init__(self):\n",
    "    super().__init__()\n",
    "    \n",
    "  def forward(self, X):\n",
    "    half_len = X.shape[-1] // 2\n",
    "    return torch.fft.fft(X, dim=-1)[..., :half_len]"
   ]
  },
  {
   "cell_type": "code",
   "execution_count": 33,
   "metadata": {},
   "outputs": [
    {
     "data": {
      "text/plain": [
       "(torch.Size([500]), torch.Size([64, 32, 8]))"
      ]
     },
     "execution_count": 33,
     "metadata": {},
     "output_type": "execute_result"
    }
   ],
   "source": [
    "net = HalfFFTLayer()\n",
    "net(signal).shape, net(torch.rand((64,32,16))).shape"
   ]
  }
 ],
 "metadata": {
  "celltoolbar": "Slideshow",
  "kernelspec": {
   "display_name": "d2l",
   "language": "python",
   "name": ".venv"
  },
  "language_info": {
   "codemirror_mode": {
    "name": "ipython",
    "version": 3
   },
   "file_extension": ".py",
   "mimetype": "text/x-python",
   "name": "python",
   "nbconvert_exporter": "python",
   "pygments_lexer": "ipython3",
   "version": "3.11.6"
  },
  "required_libs": [],
  "rise": {
   "autolaunch": true,
   "enable_chalkboard": true,
   "overlay": "<div class='my-top-right'><img height=80px src='http://d2l.ai/_static/logo-with-text.png'/></div><div class='my-top-left'></div>",
   "scroll": true
  }
 },
 "nbformat": 4,
 "nbformat_minor": 5
}
