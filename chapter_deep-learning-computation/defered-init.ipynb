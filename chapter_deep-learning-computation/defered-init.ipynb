{
 "cells": [
  {
   "cell_type": "markdown",
   "metadata": {},
   "source": [
    "# 延后初始化"
   ]
  },
  {
   "cell_type": "code",
   "execution_count": 1,
   "metadata": {},
   "outputs": [
    {
     "name": "stderr",
     "output_type": "stream",
     "text": [
      "/usr/lib/python3.11/site-packages/torch/nn/modules/lazy.py:180: UserWarning: Lazy modules are a new feature under heavy development so changes to the API or functionality can happen at any moment.\n",
      "  warnings.warn('Lazy modules are a new feature under heavy development '\n"
     ]
    }
   ],
   "source": [
    "import torch\n",
    "from torch import nn\n",
    "\n",
    "net = nn.Sequential(\n",
    "  nn.LazyLinear(256), nn.ReLU(),\n",
    "  nn.LazyLinear(10)\n",
    ")"
   ]
  },
  {
   "cell_type": "code",
   "execution_count": 2,
   "metadata": {},
   "outputs": [
    {
     "data": {
      "text/plain": [
       "OrderedDict([('0', LazyLinear(in_features=0, out_features=256, bias=True)),\n",
       "             ('1', ReLU()),\n",
       "             ('2', LazyLinear(in_features=0, out_features=10, bias=True))])"
      ]
     },
     "execution_count": 2,
     "metadata": {},
     "output_type": "execute_result"
    }
   ],
   "source": [
    "net._modules"
   ]
  },
  {
   "cell_type": "code",
   "execution_count": 3,
   "metadata": {},
   "outputs": [
    {
     "data": {
      "text/plain": [
       "OrderedDict([('0.weight', <UninitializedParameter>),\n",
       "             ('0.bias', <UninitializedParameter>),\n",
       "             ('2.weight', <UninitializedParameter>),\n",
       "             ('2.bias', <UninitializedParameter>)])"
      ]
     },
     "execution_count": 3,
     "metadata": {},
     "output_type": "execute_result"
    }
   ],
   "source": [
    "net.state_dict()"
   ]
  },
  {
   "cell_type": "code",
   "execution_count": 4,
   "metadata": {},
   "outputs": [
    {
     "data": {
      "text/plain": [
       "<UninitializedParameter>"
      ]
     },
     "execution_count": 4,
     "metadata": {},
     "output_type": "execute_result"
    }
   ],
   "source": [
    "net[0].weight"
   ]
  },
  {
   "cell_type": "code",
   "execution_count": 6,
   "metadata": {},
   "outputs": [
    {
     "data": {
      "text/plain": [
       "OrderedDict([('0.weight',\n",
       "              tensor([[ 0.1605,  0.0382,  0.1070,  ...,  0.2011, -0.1257, -0.2089],\n",
       "                      [ 0.1208,  0.0251, -0.1199,  ...,  0.0044,  0.0315,  0.0863],\n",
       "                      [-0.0007, -0.0281, -0.1889,  ..., -0.2055,  0.0132, -0.0416],\n",
       "                      ...,\n",
       "                      [-0.0643,  0.1761, -0.1717,  ..., -0.0159,  0.1274,  0.0656],\n",
       "                      [ 0.1736, -0.0674,  0.0930,  ...,  0.0643, -0.1702, -0.1103],\n",
       "                      [ 0.1668, -0.0060,  0.1676,  ...,  0.1703,  0.0423, -0.0546]])),\n",
       "             ('0.bias',\n",
       "              tensor([ 0.0660, -0.0589, -0.1597, -0.0256,  0.0100, -0.0309, -0.1315,  0.0591,\n",
       "                       0.1242,  0.0287,  0.0188,  0.0646,  0.1385, -0.0453, -0.0696, -0.0772,\n",
       "                      -0.0018,  0.2042,  0.1428,  0.2166,  0.1190, -0.1628,  0.1596, -0.2004,\n",
       "                       0.1475, -0.0759, -0.0714, -0.0963, -0.0764, -0.1889,  0.1097, -0.0185,\n",
       "                      -0.0626, -0.0611,  0.0720, -0.1083, -0.0638, -0.1689, -0.0827, -0.1546,\n",
       "                      -0.0948, -0.1345,  0.0360, -0.2197, -0.1617, -0.0835,  0.1383,  0.0156,\n",
       "                       0.1398, -0.1235,  0.0529, -0.1201,  0.0796, -0.1427,  0.0333, -0.0641,\n",
       "                      -0.0013, -0.0161,  0.1472, -0.2162,  0.0634,  0.1731, -0.2207, -0.1162,\n",
       "                      -0.1131,  0.1785,  0.0269, -0.0640,  0.1867,  0.1748, -0.1977,  0.1685,\n",
       "                      -0.0760,  0.1283, -0.1754,  0.0224, -0.1874,  0.0902, -0.0216,  0.1207,\n",
       "                       0.0033,  0.0566,  0.1880, -0.1862, -0.0228,  0.0411, -0.0913,  0.2001,\n",
       "                       0.1338,  0.0196, -0.0657,  0.0117,  0.0242, -0.0676, -0.0346, -0.1349,\n",
       "                       0.0445, -0.0771, -0.1381, -0.1592, -0.1680, -0.0476, -0.1261, -0.1828,\n",
       "                      -0.0433,  0.1773,  0.0074, -0.1269, -0.0867, -0.1745,  0.1017, -0.1064,\n",
       "                       0.1456,  0.0715,  0.0705,  0.0395, -0.2084,  0.0774, -0.0478, -0.1806,\n",
       "                       0.2047,  0.1075, -0.1174,  0.1843, -0.0802,  0.1858,  0.2211, -0.1160,\n",
       "                      -0.1026, -0.1678, -0.0167, -0.2072,  0.0735,  0.0348, -0.1555, -0.1526,\n",
       "                       0.0079,  0.1931,  0.1344, -0.1639,  0.1737, -0.0409,  0.1680,  0.0097,\n",
       "                      -0.0804,  0.0657, -0.1497, -0.1720,  0.1159,  0.1898,  0.0103,  0.1395,\n",
       "                      -0.1034, -0.2207,  0.1136,  0.1222,  0.1456,  0.2090, -0.0105,  0.0825,\n",
       "                       0.1338,  0.0648,  0.1181, -0.1423,  0.0162, -0.1204, -0.0766, -0.0500,\n",
       "                      -0.0740, -0.2205, -0.0435,  0.1515,  0.1797, -0.2164, -0.0404,  0.1634,\n",
       "                      -0.0243, -0.2114, -0.1466,  0.0215, -0.0438, -0.1074, -0.0758,  0.1858,\n",
       "                       0.1571, -0.0423, -0.1781, -0.0540, -0.1738,  0.1994, -0.0241,  0.1942,\n",
       "                       0.0511, -0.0582, -0.2221, -0.0322, -0.2121,  0.0439, -0.0302,  0.1487,\n",
       "                       0.1241, -0.0302, -0.0763, -0.0893,  0.1247, -0.0236,  0.0199,  0.0305,\n",
       "                      -0.0341, -0.2119,  0.2231, -0.0572,  0.1035,  0.0319, -0.0612,  0.2171,\n",
       "                       0.1605, -0.1088,  0.1217,  0.2139,  0.1090,  0.1189,  0.0753,  0.1224,\n",
       "                      -0.0169, -0.1556, -0.0088, -0.0114,  0.1350, -0.1352,  0.1561,  0.0366,\n",
       "                       0.1398, -0.0992,  0.1380,  0.1978, -0.0040,  0.2233,  0.0845, -0.1685,\n",
       "                      -0.0111, -0.2148, -0.1196, -0.0204,  0.0603,  0.1402,  0.0630, -0.1793,\n",
       "                      -0.0810, -0.0697,  0.1109, -0.0049,  0.0900,  0.1596,  0.0004, -0.0311])),\n",
       "             ('2.weight',\n",
       "              tensor([[-0.0171,  0.0297,  0.0009,  ...,  0.0423,  0.0299,  0.0167],\n",
       "                      [ 0.0623, -0.0170,  0.0135,  ...,  0.0149,  0.0278,  0.0028],\n",
       "                      [ 0.0343,  0.0571,  0.0062,  ..., -0.0050,  0.0543,  0.0614],\n",
       "                      ...,\n",
       "                      [ 0.0467,  0.0217,  0.0058,  ...,  0.0219, -0.0435, -0.0534],\n",
       "                      [ 0.0480,  0.0107, -0.0351,  ..., -0.0296,  0.0536, -0.0552],\n",
       "                      [ 0.0114,  0.0410, -0.0479,  ...,  0.0097, -0.0152, -0.0421]])),\n",
       "             ('2.bias',\n",
       "              tensor([ 0.0082,  0.0151, -0.0101, -0.0116,  0.0148,  0.0122,  0.0426, -0.0452,\n",
       "                      -0.0423, -0.0540]))])"
      ]
     },
     "execution_count": 6,
     "metadata": {},
     "output_type": "execute_result"
    }
   ],
   "source": [
    "X = torch.rand((2,20))\n",
    "net(X)\n",
    "net.state_dict()"
   ]
  },
  {
   "cell_type": "code",
   "execution_count": 17,
   "metadata": {},
   "outputs": [
    {
     "data": {
      "text/plain": [
       "['0.weight', '0.bias', '2.weight', '2.bias']"
      ]
     },
     "execution_count": 17,
     "metadata": {},
     "output_type": "execute_result"
    }
   ],
   "source": [
    "[w for w in net.state_dict()]"
   ]
  },
  {
   "cell_type": "code",
   "execution_count": 20,
   "metadata": {},
   "outputs": [
    {
     "data": {
      "text/plain": [
       "[torch.Size([256, 20]),\n",
       " torch.Size([256]),\n",
       " torch.Size([10, 256]),\n",
       " torch.Size([10])]"
      ]
     },
     "execution_count": 20,
     "metadata": {},
     "output_type": "execute_result"
    }
   ],
   "source": [
    "[w.shape for w in net.parameters()]"
   ]
  }
 ],
 "metadata": {
  "kernelspec": {
   "display_name": "d2l",
   "language": "python",
   "name": ".venv"
  },
  "language_info": {
   "codemirror_mode": {
    "name": "ipython",
    "version": 3
   },
   "file_extension": ".py",
   "mimetype": "text/x-python",
   "name": "python",
   "nbconvert_exporter": "python",
   "pygments_lexer": "ipython3",
   "version": "3.11.6"
  }
 },
 "nbformat": 4,
 "nbformat_minor": 2
}
