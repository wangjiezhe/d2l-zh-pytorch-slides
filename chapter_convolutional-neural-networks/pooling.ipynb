{
 "cells": [
  {
   "cell_type": "markdown",
   "id": "a3a254cb",
   "metadata": {
    "slideshow": {
     "slide_type": "-"
    }
   },
   "source": [
    "# 汇聚层\n",
    "\n",
    "实现汇聚层的前向传播"
   ]
  },
  {
   "cell_type": "code",
   "execution_count": 1,
   "id": "fe35adac",
   "metadata": {
    "execution": {
     "iopub.execute_input": "2023-08-18T07:02:20.228639Z",
     "iopub.status.busy": "2023-08-18T07:02:20.227964Z",
     "iopub.status.idle": "2023-08-18T07:02:20.234155Z",
     "shell.execute_reply": "2023-08-18T07:02:20.233266Z"
    },
    "origin_pos": 4,
    "tab": [
     "pytorch"
    ]
   },
   "outputs": [],
   "source": [
    "import torch\n",
    "from torch import nn\n",
    "from d2l import torch as d2l\n",
    "\n",
    "def pool2d(X, pool_size, mode='max'):\n",
    "    p_h, p_w = pool_size\n",
    "    Y = torch.zeros((X.shape[0] - p_h + 1, X.shape[1] - p_w + 1))\n",
    "    for i in range(Y.shape[0]):\n",
    "        for j in range(Y.shape[1]):\n",
    "            if mode == 'max':\n",
    "                Y[i, j] = X[i: i + p_h, j: j + p_w].max()\n",
    "            elif mode == 'avg':\n",
    "                Y[i, j] = X[i: i + p_h, j: j + p_w].mean()\n",
    "    return Y"
   ]
  },
  {
   "cell_type": "markdown",
   "id": "0cee43f1",
   "metadata": {
    "slideshow": {
     "slide_type": "slide"
    }
   },
   "source": [
    "验证二维最大汇聚层的输出"
   ]
  },
  {
   "cell_type": "code",
   "execution_count": 2,
   "id": "3a781c85",
   "metadata": {
    "execution": {
     "iopub.execute_input": "2023-08-18T07:02:20.237767Z",
     "iopub.status.busy": "2023-08-18T07:02:20.237211Z",
     "iopub.status.idle": "2023-08-18T07:02:20.268065Z",
     "shell.execute_reply": "2023-08-18T07:02:20.267212Z"
    },
    "origin_pos": 7,
    "tab": [
     "pytorch"
    ]
   },
   "outputs": [
    {
     "data": {
      "text/plain": [
       "tensor([[4., 5.],\n",
       "        [7., 8.]])"
      ]
     },
     "execution_count": 2,
     "metadata": {},
     "output_type": "execute_result"
    }
   ],
   "source": [
    "X = torch.tensor([[0.0, 1.0, 2.0], [3.0, 4.0, 5.0], [6.0, 7.0, 8.0]])\n",
    "pool2d(X, (2, 2))"
   ]
  },
  {
   "cell_type": "markdown",
   "id": "2a7b5d65",
   "metadata": {
    "slideshow": {
     "slide_type": "-"
    }
   },
   "source": [
    "验证平均汇聚层"
   ]
  },
  {
   "cell_type": "code",
   "execution_count": 3,
   "id": "4f9a1ffd",
   "metadata": {
    "execution": {
     "iopub.execute_input": "2023-08-18T07:02:20.272001Z",
     "iopub.status.busy": "2023-08-18T07:02:20.271411Z",
     "iopub.status.idle": "2023-08-18T07:02:20.277849Z",
     "shell.execute_reply": "2023-08-18T07:02:20.276928Z"
    },
    "origin_pos": 9,
    "tab": [
     "pytorch"
    ]
   },
   "outputs": [
    {
     "data": {
      "text/plain": [
       "tensor([[2., 3.],\n",
       "        [5., 6.]])"
      ]
     },
     "execution_count": 3,
     "metadata": {},
     "output_type": "execute_result"
    }
   ],
   "source": [
    "pool2d(X, (2, 2), 'avg')"
   ]
  },
  {
   "cell_type": "markdown",
   "id": "941b8124",
   "metadata": {
    "slideshow": {
     "slide_type": "slide"
    }
   },
   "source": [
    "填充和步幅"
   ]
  },
  {
   "cell_type": "code",
   "execution_count": 4,
   "id": "140d08f5",
   "metadata": {
    "execution": {
     "iopub.execute_input": "2023-08-18T07:02:20.281458Z",
     "iopub.status.busy": "2023-08-18T07:02:20.280874Z",
     "iopub.status.idle": "2023-08-18T07:02:20.287391Z",
     "shell.execute_reply": "2023-08-18T07:02:20.286578Z"
    },
    "origin_pos": 12,
    "tab": [
     "pytorch"
    ]
   },
   "outputs": [
    {
     "data": {
      "text/plain": [
       "tensor([[[[ 0.,  1.,  2.,  3.],\n",
       "          [ 4.,  5.,  6.,  7.],\n",
       "          [ 8.,  9., 10., 11.],\n",
       "          [12., 13., 14., 15.]]]])"
      ]
     },
     "execution_count": 4,
     "metadata": {},
     "output_type": "execute_result"
    }
   ],
   "source": [
    "X = torch.arange(16, dtype=torch.float32).reshape((1, 1, 4, 4))\n",
    "X"
   ]
  },
  {
   "cell_type": "markdown",
   "id": "43710341",
   "metadata": {
    "slideshow": {
     "slide_type": "-"
    }
   },
   "source": [
    "深度学习框架中的步幅与汇聚窗口的大小相同"
   ]
  },
  {
   "cell_type": "code",
   "execution_count": 5,
   "id": "a3cc01e3",
   "metadata": {
    "execution": {
     "iopub.execute_input": "2023-08-18T07:02:20.291052Z",
     "iopub.status.busy": "2023-08-18T07:02:20.290402Z",
     "iopub.status.idle": "2023-08-18T07:02:20.296276Z",
     "shell.execute_reply": "2023-08-18T07:02:20.295476Z"
    },
    "origin_pos": 17,
    "tab": [
     "pytorch"
    ]
   },
   "outputs": [
    {
     "data": {
      "text/plain": [
       "tensor([[[[10.]]]])"
      ]
     },
     "execution_count": 5,
     "metadata": {},
     "output_type": "execute_result"
    }
   ],
   "source": [
    "pool2d = nn.MaxPool2d(3)\n",
    "pool2d(X)"
   ]
  },
  {
   "cell_type": "code",
   "execution_count": 7,
   "metadata": {},
   "outputs": [
    {
     "data": {
      "text/plain": [
       "tensor([[[[ 5.,  7.],\n",
       "          [13., 15.]]]])"
      ]
     },
     "execution_count": 7,
     "metadata": {},
     "output_type": "execute_result"
    }
   ],
   "source": [
    "from torch.nn import functional as F\n",
    "\n",
    "F.max_pool2d(X, 2)"
   ]
  },
  {
   "cell_type": "code",
   "execution_count": 11,
   "metadata": {},
   "outputs": [
    {
     "data": {
      "text/plain": [
       "tensor([[[[ 0.,  1.,  2.,  3.,  4.,  5.,  6.,  7.],\n",
       "          [ 8.,  9., 10., 11., 12., 13., 14., 15.],\n",
       "          [16., 17., 18., 19., 20., 21., 22., 23.],\n",
       "          [24., 25., 26., 27., 28., 29., 30., 31.],\n",
       "          [32., 33., 34., 35., 36., 37., 38., 39.],\n",
       "          [40., 41., 42., 43., 44., 45., 46., 47.],\n",
       "          [48., 49., 50., 51., 52., 53., 54., 55.],\n",
       "          [56., 57., 58., 59., 60., 61., 62., 63.]]]])"
      ]
     },
     "execution_count": 11,
     "metadata": {},
     "output_type": "execute_result"
    }
   ],
   "source": [
    "Y = torch.arange(64, dtype=torch.float32).reshape(1,1,8,8)\n",
    "Y"
   ]
  },
  {
   "cell_type": "code",
   "execution_count": 13,
   "metadata": {},
   "outputs": [
    {
     "data": {
      "text/plain": [
       "tensor([[[[ 9., 11., 13., 15.],\n",
       "          [25., 27., 29., 31.],\n",
       "          [41., 43., 45., 47.],\n",
       "          [57., 59., 61., 63.]]]])"
      ]
     },
     "execution_count": 13,
     "metadata": {},
     "output_type": "execute_result"
    }
   ],
   "source": [
    "F.max_pool2d(Y, 2)"
   ]
  },
  {
   "cell_type": "code",
   "execution_count": 14,
   "metadata": {},
   "outputs": [
    {
     "data": {
      "text/plain": [
       "tensor([[[[18., 21.],\n",
       "          [42., 45.]]]])"
      ]
     },
     "execution_count": 14,
     "metadata": {},
     "output_type": "execute_result"
    }
   ],
   "source": [
    "F.max_pool2d(Y, 3)"
   ]
  },
  {
   "cell_type": "code",
   "execution_count": 15,
   "metadata": {},
   "outputs": [
    {
     "data": {
      "text/plain": [
       "tensor([[[[27., 31.],\n",
       "          [59., 63.]]]])"
      ]
     },
     "execution_count": 15,
     "metadata": {},
     "output_type": "execute_result"
    }
   ],
   "source": [
    "F.max_pool2d(Y, 4)"
   ]
  },
  {
   "cell_type": "code",
   "execution_count": 17,
   "metadata": {},
   "outputs": [
    {
     "data": {
      "text/plain": [
       "tensor([[[[36.]]]])"
      ]
     },
     "execution_count": 17,
     "metadata": {},
     "output_type": "execute_result"
    }
   ],
   "source": [
    "F.max_pool2d(Y, 5)"
   ]
  },
  {
   "cell_type": "markdown",
   "id": "4b86f339",
   "metadata": {
    "slideshow": {
     "slide_type": "slide"
    }
   },
   "source": [
    "填充和步幅可以手动设定"
   ]
  },
  {
   "cell_type": "code",
   "execution_count": 18,
   "id": "9c247428",
   "metadata": {
    "execution": {
     "iopub.execute_input": "2023-08-18T07:02:20.299965Z",
     "iopub.status.busy": "2023-08-18T07:02:20.299310Z",
     "iopub.status.idle": "2023-08-18T07:02:20.307455Z",
     "shell.execute_reply": "2023-08-18T07:02:20.306477Z"
    },
    "origin_pos": 22,
    "tab": [
     "pytorch"
    ]
   },
   "outputs": [
    {
     "data": {
      "text/plain": [
       "tensor([[[[ 5.,  7.],\n",
       "          [13., 15.]]]])"
      ]
     },
     "execution_count": 18,
     "metadata": {},
     "output_type": "execute_result"
    }
   ],
   "source": [
    "pool2d = nn.MaxPool2d(3, padding=1, stride=2)\n",
    "pool2d(X)"
   ]
  },
  {
   "cell_type": "code",
   "execution_count": 20,
   "metadata": {},
   "outputs": [
    {
     "data": {
      "text/plain": [
       "tensor([[[[ 5.,  7.],\n",
       "          [13., 15.]]]])"
      ]
     },
     "execution_count": 20,
     "metadata": {},
     "output_type": "execute_result"
    }
   ],
   "source": [
    "F.max_pool2d(X, 3, padding=1, stride=3)"
   ]
  },
  {
   "cell_type": "markdown",
   "id": "7295d3e3",
   "metadata": {
    "slideshow": {
     "slide_type": "-"
    }
   },
   "source": [
    "设定一个任意大小的矩形汇聚窗口，并分别设定填充和步幅的高度和宽度"
   ]
  },
  {
   "cell_type": "code",
   "execution_count": 8,
   "id": "7c169b2f",
   "metadata": {
    "execution": {
     "iopub.execute_input": "2023-08-18T07:02:20.311794Z",
     "iopub.status.busy": "2023-08-18T07:02:20.311492Z",
     "iopub.status.idle": "2023-08-18T07:02:20.320399Z",
     "shell.execute_reply": "2023-08-18T07:02:20.319108Z"
    },
    "origin_pos": 30,
    "tab": [
     "pytorch"
    ]
   },
   "outputs": [
    {
     "data": {
      "text/plain": [
       "tensor([[[[ 5.,  7.],\n",
       "          [13., 15.]]]])"
      ]
     },
     "execution_count": 8,
     "metadata": {},
     "output_type": "execute_result"
    }
   ],
   "source": [
    "pool2d = nn.MaxPool2d((2, 3), stride=(2, 3), padding=(0, 1))\n",
    "pool2d(X)"
   ]
  },
  {
   "cell_type": "markdown",
   "id": "daa999f2",
   "metadata": {
    "slideshow": {
     "slide_type": "slide"
    }
   },
   "source": [
    "汇聚层在每个输入通道上单独运算"
   ]
  },
  {
   "cell_type": "code",
   "execution_count": 23,
   "metadata": {},
   "outputs": [
    {
     "data": {
      "text/plain": [
       "tensor([[[[[ 0.,  1.,  2.,  3.],\n",
       "           [ 4.,  5.,  6.,  7.],\n",
       "           [ 8.,  9., 10., 11.],\n",
       "           [12., 13., 14., 15.]]]],\n",
       "\n",
       "\n",
       "\n",
       "        [[[[ 1.,  2.,  3.,  4.],\n",
       "           [ 5.,  6.,  7.,  8.],\n",
       "           [ 9., 10., 11., 12.],\n",
       "           [13., 14., 15., 16.]]]]])"
      ]
     },
     "execution_count": 23,
     "metadata": {},
     "output_type": "execute_result"
    }
   ],
   "source": [
    "torch.stack((X, X+1), 0)"
   ]
  },
  {
   "cell_type": "code",
   "execution_count": 30,
   "metadata": {},
   "outputs": [
    {
     "data": {
      "text/plain": [
       "torch.Size([2, 1, 1, 4, 4])"
      ]
     },
     "execution_count": 30,
     "metadata": {},
     "output_type": "execute_result"
    }
   ],
   "source": [
    "torch.stack((X, X+1), 0).shape"
   ]
  },
  {
   "cell_type": "code",
   "execution_count": 28,
   "metadata": {},
   "outputs": [
    {
     "data": {
      "text/plain": [
       "torch.Size([2, 1, 4, 4])"
      ]
     },
     "execution_count": 28,
     "metadata": {},
     "output_type": "execute_result"
    }
   ],
   "source": [
    "torch.cat((X, X+1), 0).shape"
   ]
  },
  {
   "cell_type": "code",
   "execution_count": 29,
   "metadata": {},
   "outputs": [
    {
     "data": {
      "text/plain": [
       "torch.Size([1, 2, 4, 4])"
      ]
     },
     "execution_count": 29,
     "metadata": {},
     "output_type": "execute_result"
    }
   ],
   "source": [
    "torch.cat((X, X+1), 1).shape"
   ]
  },
  {
   "cell_type": "code",
   "execution_count": 31,
   "id": "c0a30a7f",
   "metadata": {
    "execution": {
     "iopub.execute_input": "2023-08-18T07:02:20.325617Z",
     "iopub.status.busy": "2023-08-18T07:02:20.324879Z",
     "iopub.status.idle": "2023-08-18T07:02:20.335303Z",
     "shell.execute_reply": "2023-08-18T07:02:20.334055Z"
    },
    "origin_pos": 35,
    "tab": [
     "pytorch"
    ]
   },
   "outputs": [
    {
     "data": {
      "text/plain": [
       "tensor([[[[ 0.,  1.,  2.,  3.],\n",
       "          [ 4.,  5.,  6.,  7.],\n",
       "          [ 8.,  9., 10., 11.],\n",
       "          [12., 13., 14., 15.]],\n",
       "\n",
       "         [[ 1.,  2.,  3.,  4.],\n",
       "          [ 5.,  6.,  7.,  8.],\n",
       "          [ 9., 10., 11., 12.],\n",
       "          [13., 14., 15., 16.]]]])"
      ]
     },
     "execution_count": 31,
     "metadata": {},
     "output_type": "execute_result"
    }
   ],
   "source": [
    "X = torch.cat((X, X + 1), 1)\n",
    "X"
   ]
  },
  {
   "cell_type": "code",
   "execution_count": 32,
   "id": "e534c8f3",
   "metadata": {
    "execution": {
     "iopub.execute_input": "2023-08-18T07:02:20.340529Z",
     "iopub.status.busy": "2023-08-18T07:02:20.339767Z",
     "iopub.status.idle": "2023-08-18T07:02:20.349365Z",
     "shell.execute_reply": "2023-08-18T07:02:20.348159Z"
    },
    "origin_pos": 39,
    "tab": [
     "pytorch"
    ]
   },
   "outputs": [
    {
     "data": {
      "text/plain": [
       "tensor([[[[ 5.,  7.],\n",
       "          [13., 15.]],\n",
       "\n",
       "         [[ 6.,  8.],\n",
       "          [14., 16.]]]])"
      ]
     },
     "execution_count": 32,
     "metadata": {},
     "output_type": "execute_result"
    }
   ],
   "source": [
    "pool2d = nn.MaxPool2d(3, padding=1, stride=2)\n",
    "pool2d(X)"
   ]
  },
  {
   "cell_type": "markdown",
   "metadata": {},
   "source": [
    "## 练习"
   ]
  },
  {
   "cell_type": "markdown",
   "metadata": {},
   "source": [
    "1. 尝试将平均汇聚层作为卷积层的特殊情况实现。"
   ]
  },
  {
   "cell_type": "code",
   "execution_count": 65,
   "metadata": {},
   "outputs": [],
   "source": [
    "import numpy as np\n",
    "\n",
    "class AvgPool(nn.Module):\n",
    "    def __init__(self, kernel_size, padding=0, stride=None):\n",
    "        super().__init__()\n",
    "        if type(kernel_size) == int:\n",
    "            self.weight = nn.Parameter(torch.ones((1, 1, kernel_size, kernel_size), dtype=torch.float32)  / (kernel_size ** 2), requires_grad=False)\n",
    "        elif type(kernel_size) == tuple:\n",
    "            self.weight = nn.Parameter(torch.ones((1, 1) + kernel_size, dtype=torch.float32) / np.prod(kernel_size), requires_grad=False)\n",
    "        self.padding = padding\n",
    "        self.stride = kernel_size if stride is None else stride\n",
    "\n",
    "    def forward(self, x):\n",
    "        return F.conv2d(x, weight=self.weight, padding=self.padding, stride=self.stride)"
   ]
  },
  {
   "cell_type": "code",
   "execution_count": 66,
   "metadata": {},
   "outputs": [
    {
     "data": {
      "text/plain": [
       "(tensor([[[[ 4.5000,  6.5000,  8.5000, 10.5000],\n",
       "           [20.5000, 22.5000, 24.5000, 26.5000],\n",
       "           [36.5000, 38.5000, 40.5000, 42.5000],\n",
       "           [52.5000, 54.5000, 56.5000, 58.5000]]]]),\n",
       " tensor([[[[ 9., 12.],\n",
       "           [33., 36.]]]]))"
      ]
     },
     "execution_count": 66,
     "metadata": {},
     "output_type": "execute_result"
    }
   ],
   "source": [
    "X = torch.arange(64, dtype=torch.float32).reshape((1, 1, 8, 8))\n",
    "F.avg_pool2d(X, 2), F.avg_pool2d(X, 3)"
   ]
  },
  {
   "cell_type": "code",
   "execution_count": 54,
   "metadata": {},
   "outputs": [
    {
     "data": {
      "text/plain": [
       "(tensor([[[[ 4.5000,  6.5000,  8.5000, 10.5000],\n",
       "           [20.5000, 22.5000, 24.5000, 26.5000],\n",
       "           [36.5000, 38.5000, 40.5000, 42.5000],\n",
       "           [52.5000, 54.5000, 56.5000, 58.5000]]]]),\n",
       " tensor([[[[ 4.5000,  6.5000,  8.5000, 10.5000],\n",
       "           [20.5000, 22.5000, 24.5000, 26.5000],\n",
       "           [36.5000, 38.5000, 40.5000, 42.5000],\n",
       "           [52.5000, 54.5000, 56.5000, 58.5000]]]]))"
      ]
     },
     "execution_count": 54,
     "metadata": {},
     "output_type": "execute_result"
    }
   ],
   "source": [
    "nn.AvgPool2d(2)(X), nn.AvgPool2d(2)(X)"
   ]
  },
  {
   "cell_type": "code",
   "execution_count": 67,
   "metadata": {},
   "outputs": [
    {
     "data": {
      "text/plain": [
       "(tensor([[[[ 4.5000,  6.5000,  8.5000, 10.5000],\n",
       "           [20.5000, 22.5000, 24.5000, 26.5000],\n",
       "           [36.5000, 38.5000, 40.5000, 42.5000],\n",
       "           [52.5000, 54.5000, 56.5000, 58.5000]]]]),\n",
       " tensor([[[[ 9.0000, 12.0000],\n",
       "           [33.0000, 36.0000]]]]))"
      ]
     },
     "execution_count": 67,
     "metadata": {},
     "output_type": "execute_result"
    }
   ],
   "source": [
    "AvgPool(2)(X), AvgPool(3)(X)"
   ]
  },
  {
   "cell_type": "code",
   "execution_count": 75,
   "metadata": {},
   "outputs": [
    {
     "data": {
      "text/plain": [
       "(tensor([[ 4.5000,  6.5000,  8.5000, 10.5000],\n",
       "         [20.5000, 22.5000, 24.5000, 26.5000],\n",
       "         [36.5000, 38.5000, 40.5000, 42.5000],\n",
       "         [52.5000, 54.5000, 56.5000, 58.5000]]),\n",
       " tensor([[ 9.0000, 12.0000],\n",
       "         [33.0000, 36.0000]]))"
      ]
     },
     "execution_count": 75,
     "metadata": {},
     "output_type": "execute_result"
    }
   ],
   "source": [
    "def corr2d_stride(X, K):\n",
    "    h, w = K.shape\n",
    "    hx, wx = X.shape\n",
    "    Y = torch.stack(([X[i:i+h, j:j+w].reshape(1,-1) for i in range(0, hx-h+1, h) for j in range(0, wx-w+1, w)]), 0) \n",
    "    Z = Y @ K.reshape(-1, 1)\n",
    "    return Z.reshape(hx // h, wx // w)\n",
    "\n",
    "class AvgPool2(nn.Module):\n",
    "    def __init__(self, kernel_size):\n",
    "        super().__init__()\n",
    "        if type(kernel_size) == int:\n",
    "            self.weight = nn.Parameter(torch.ones((kernel_size, kernel_size), dtype=torch.float32)  / (kernel_size ** 2), requires_grad=False)\n",
    "        elif type(kernel_size) == tuple:\n",
    "            self.weight = nn.Parameter(torch.ones(kernel_size, dtype=torch.float32) / np.prod(kernel_size), requires_grad=False)\n",
    "\n",
    "    def forward(self, x):\n",
    "        return corr2d_stride(x, self.weight)\n",
    "\n",
    "X = torch.arange(64, dtype=torch.float32).reshape((8, 8))\n",
    "AvgPool2(2)(X), AvgPool2(3)(X)"
   ]
  },
  {
   "cell_type": "code",
   "execution_count": 78,
   "metadata": {},
   "outputs": [
    {
     "data": {
      "text/plain": [
       "(tensor([[ 4.5000,  6.5000,  8.5000, 10.5000],\n",
       "         [20.5000, 22.5000, 24.5000, 26.5000],\n",
       "         [36.5000, 38.5000, 40.5000, 42.5000],\n",
       "         [52.5000, 54.5000, 56.5000, 58.5000]]),\n",
       " tensor([[ 9., 12.],\n",
       "         [33., 36.]]))"
      ]
     },
     "execution_count": 78,
     "metadata": {},
     "output_type": "execute_result"
    }
   ],
   "source": [
    "def corr2d_avg(X, K):\n",
    "    h, w = K.shape\n",
    "    hx, wx = X.shape\n",
    "    Y = torch.zeros((hx // h, wx // w))\n",
    "    for i in range(Y.shape[0]):\n",
    "        for j in range(Y.shape[1]):\n",
    "            Y[i, j] = (X[(i*h):(i*h+h), (j*w):(j*w+w)] * K).mean()\n",
    "    return Y\n",
    "\n",
    "class AvgPool3(nn.Module):\n",
    "    def __init__(self, kernel_size):\n",
    "        super().__init__()\n",
    "        if type(kernel_size) == int:\n",
    "            self.weight = nn.Parameter(torch.ones((kernel_size, kernel_size), dtype=torch.float32), requires_grad=False)\n",
    "        elif type(kernel_size) == tuple:\n",
    "            self.weight = nn.Parameter(torch.ones(kernel_size, dtype=torch.float32), requires_grad=False)\n",
    "\n",
    "    def forward(self, x):\n",
    "        return corr2d_avg(x, self.weight)\n",
    "\n",
    "X = torch.arange(64, dtype=torch.float32).reshape((8, 8))\n",
    "AvgPool3(2)(X), AvgPool3(3)(X)"
   ]
  },
  {
   "cell_type": "markdown",
   "metadata": {},
   "source": [
    "2. 尝试将最大汇聚层作为卷积层的特殊情况实现。"
   ]
  },
  {
   "cell_type": "code",
   "execution_count": 72,
   "metadata": {},
   "outputs": [
    {
     "data": {
      "text/plain": [
       "(tensor([[ 9., 11., 13., 15.],\n",
       "         [25., 27., 29., 31.],\n",
       "         [41., 43., 45., 47.],\n",
       "         [57., 59., 61., 63.]]),\n",
       " tensor([[18., 21.],\n",
       "         [42., 45.]]))"
      ]
     },
     "execution_count": 72,
     "metadata": {},
     "output_type": "execute_result"
    }
   ],
   "source": [
    "def corr2d_max(X, K):  \n",
    "    h, w = K.shape\n",
    "    hx, wx = X.shape\n",
    "    Y = torch.zeros((hx // h, wx // w))\n",
    "    for i in range(Y.shape[0]):\n",
    "        for j in range(Y.shape[1]):\n",
    "            Y[i, j] = (X[(i*h):(i*h+h), (j*w):(j*w+w)] * K).max()\n",
    "    return Y\n",
    "\n",
    "class MaxPool2(nn.Module):\n",
    "    def __init__(self, kernel_size):\n",
    "        super().__init__()\n",
    "        if type(kernel_size) == int:\n",
    "            self.weight = nn.Parameter(torch.ones((kernel_size, kernel_size), dtype=torch.float32), requires_grad=False)\n",
    "        elif type(kernel_size) == tuple:\n",
    "            self.weight = nn.Parameter(torch.ones(kernel_size, dtype=torch.float32), requires_grad=False)\n",
    "\n",
    "    def forward(self, x):\n",
    "        return corr2d_max(x, self.weight)\n",
    "    \n",
    "X = torch.arange(64, dtype=torch.float32).reshape((8, 8))\n",
    "MaxPool2(2)(X), MaxPool2(3)(X)"
   ]
  },
  {
   "cell_type": "code",
   "execution_count": 73,
   "metadata": {},
   "outputs": [
    {
     "data": {
      "text/plain": [
       "(tensor([[[[ 9., 11., 13., 15.],\n",
       "           [25., 27., 29., 31.],\n",
       "           [41., 43., 45., 47.],\n",
       "           [57., 59., 61., 63.]]]]),\n",
       " tensor([[[[18., 21.],\n",
       "           [42., 45.]]]]))"
      ]
     },
     "execution_count": 73,
     "metadata": {},
     "output_type": "execute_result"
    }
   ],
   "source": [
    "nn.MaxPool2d(2)(X.reshape((1,1,8,8))), nn.MaxPool2d(3)(X.reshape((1,1,8,8)))"
   ]
  },
  {
   "cell_type": "markdown",
   "metadata": {},
   "source": [
    "3. 我们是否需要最小汇聚层？可以用已知函数替换它吗？"
   ]
  },
  {
   "cell_type": "code",
   "execution_count": 83,
   "metadata": {},
   "outputs": [
    {
     "data": {
      "text/plain": [
       "tensor([[[[ 0.,  2.,  4.,  6.],\n",
       "          [16., 18., 20., 22.],\n",
       "          [32., 34., 36., 38.],\n",
       "          [48., 50., 52., 54.]]]])"
      ]
     },
     "execution_count": 83,
     "metadata": {},
     "output_type": "execute_result"
    }
   ],
   "source": [
    "X = torch.arange(64, dtype=torch.float32).reshape((1, 1, 8, 8))\n",
    "F.max_pool2d(X * -1, 2) * -1"
   ]
  }
 ],
 "metadata": {
  "celltoolbar": "Slideshow",
  "kernelspec": {
   "display_name": "d2l",
   "language": "python",
   "name": "d2l"
  },
  "language_info": {
   "codemirror_mode": {
    "name": "ipython",
    "version": 3
   },
   "file_extension": ".py",
   "mimetype": "text/x-python",
   "name": "python",
   "nbconvert_exporter": "python",
   "pygments_lexer": "ipython3",
   "version": "3.11.6"
  },
  "required_libs": [],
  "rise": {
   "autolaunch": true,
   "enable_chalkboard": true,
   "overlay": "<div class='my-top-right'><img height=80px src='http://d2l.ai/_static/logo-with-text.png'/></div><div class='my-top-left'></div>",
   "scroll": true
  }
 },
 "nbformat": 4,
 "nbformat_minor": 5
}
