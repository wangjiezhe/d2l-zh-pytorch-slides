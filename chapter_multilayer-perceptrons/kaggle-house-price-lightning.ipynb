{
 "cells": [
  {
   "cell_type": "markdown",
   "metadata": {},
   "source": [
    "# 实战Kaggle比赛：预测房价"
   ]
  },
  {
   "cell_type": "code",
   "execution_count": 38,
   "metadata": {},
   "outputs": [],
   "source": [
    "import torch\n",
    "from torch import nn, optim\n",
    "from torch.utils.data import Subset, TensorDataset, DataLoader\n",
    "import pytorch_lightning as pl"
   ]
  },
  {
   "cell_type": "code",
   "execution_count": 3,
   "metadata": {},
   "outputs": [],
   "source": [
    "def add_to_class(Class):\n",
    "    \"\"\"Register functions as methods in created class.\"\"\"\n",
    "    def wrapper(obj):\n",
    "        setattr(Class, obj.__name__, obj)\n",
    "    return wrapper"
   ]
  },
  {
   "cell_type": "code",
   "execution_count": 4,
   "metadata": {},
   "outputs": [],
   "source": [
    "import numpy as np\n",
    "import pandas as pd"
   ]
  },
  {
   "cell_type": "code",
   "execution_count": 8,
   "metadata": {},
   "outputs": [
    {
     "data": {
      "text/plain": [
       "((1460, 81), (1459, 80))"
      ]
     },
     "execution_count": 8,
     "metadata": {},
     "output_type": "execute_result"
    }
   ],
   "source": [
    "train_data = pd.read_csv(\"../data/kaggle_house_pred_train.csv\")\n",
    "test_data = pd.read_csv(\"../data/kaggle_house_pred_test.csv\")\n",
    "train_data.shape, test_data.shape"
   ]
  },
  {
   "cell_type": "code",
   "execution_count": 11,
   "metadata": {},
   "outputs": [
    {
     "data": {
      "text/plain": [
       "(2919, 330)"
      ]
     },
     "execution_count": 11,
     "metadata": {},
     "output_type": "execute_result"
    }
   ],
   "source": [
    "all_features = pd.concat((train_data.iloc[:, 1:-1], test_data.iloc[:, 1:]))\n",
    "numeric_features = all_features.dtypes[all_features.dtypes != 'object'].index\n",
    "all_features[numeric_features] = all_features[numeric_features].apply(\n",
    "    lambda x: (x - x.mean()) / (x.std()))\n",
    "all_features[numeric_features] = all_features[numeric_features].fillna(0)\n",
    "all_features = pd.get_dummies(all_features, dummy_na=True, dtype=int)\n",
    "all_features.shape"
   ]
  },
  {
   "cell_type": "code",
   "execution_count": 13,
   "metadata": {},
   "outputs": [
    {
     "data": {
      "text/plain": [
       "(torch.Size([1460, 330]), torch.Size([1459, 330]), torch.Size([1460, 1]))"
      ]
     },
     "execution_count": 13,
     "metadata": {},
     "output_type": "execute_result"
    }
   ],
   "source": [
    "n_train = train_data.shape[0]\n",
    "train_features = torch.tensor(all_features[:n_train].values, dtype=torch.float32)\n",
    "test_features = torch.tensor(all_features[n_train:].values, dtype=torch.float32)\n",
    "train_labels = torch.tensor(\n",
    "    train_data.SalePrice.values.reshape(-1, 1), dtype=torch.float32)\n",
    "train_features.shape, test_features.shape, train_labels.shape"
   ]
  },
  {
   "cell_type": "code",
   "execution_count": 20,
   "metadata": {},
   "outputs": [],
   "source": [
    "from sklearn.model_selection import KFold"
   ]
  },
  {
   "cell_type": "code",
   "execution_count": 32,
   "metadata": {},
   "outputs": [
    {
     "data": {
      "text/plain": [
       "(1168, 292)"
      ]
     },
     "execution_count": 32,
     "metadata": {},
     "output_type": "execute_result"
    }
   ],
   "source": [
    "kf = KFold(5)\n",
    "train_indices, val_indices = list(kf.split(train_features))[0]\n",
    "len(train_indices), len(val_indices)\n",
    "current_train_features = Subset(train_features, train_indices)\n",
    "current_train_labels = Subset(train_labels, train_indices)\n",
    "current_val_features = Subset(train_features, val_indices)\n",
    "current_val_labels = Subset(train_labels, val_indices)"
   ]
  },
  {
   "cell_type": "code",
   "execution_count": 17,
   "metadata": {},
   "outputs": [],
   "source": [
    "import os.path"
   ]
  },
  {
   "cell_type": "code",
   "execution_count": 74,
   "metadata": {},
   "outputs": [],
   "source": [
    "class KaggleDataModel(pl.LightningDataModule):\n",
    "  def __init__(self, batch_size=64, data_dir=\"../data\",\n",
    "               train_csv='kaggle_house_pred_train.csv',\n",
    "               test_csv='kaggle_house_pred_test.csv',\n",
    "               num_folds=5, kfold=True, num_workers=8):\n",
    "    super().__init__()\n",
    "    self.train_data_path = os.path.join(data_dir, train_csv)\n",
    "    self.test_data_path = os.path.join(data_dir, test_csv)\n",
    "    self.num_folds = num_folds\n",
    "    self.kfold = kfold\n",
    "    self.current_fold = 0\n",
    "    self.batch_size = batch_size\n",
    "    self.num_workers = num_workers"
   ]
  },
  {
   "cell_type": "code",
   "execution_count": 144,
   "metadata": {},
   "outputs": [],
   "source": [
    "@add_to_class(KaggleDataModel)\n",
    "def setup(self, stage=None):\n",
    "  # 读取数据\n",
    "  train_data = pd.read_csv(self.train_data_path)\n",
    "  test_data = pd.read_csv(self.test_data_path)\n",
    "  # 标准化数据 x <- (x - μ) / σ\n",
    "  all_features = pd.concat((train_data.iloc[:, 1:-1], test_data.iloc[:, 1:]))\n",
    "  numeric_features = all_features.dtypes[all_features.dtypes != 'object'].index\n",
    "  all_features[numeric_features] = all_features[numeric_features].apply(\n",
    "      lambda x: (x - x.mean()) / (x.std()))\n",
    "  all_features[numeric_features] = all_features[numeric_features].fillna(0)\n",
    "  # 对离散值使用 One-Hot Encoding\n",
    "  all_features = pd.get_dummies(all_features, dummy_na=True, dtype=int)\n",
    "  # 构造数据\n",
    "  n_train = train_data.shape[0]\n",
    "  if stage == \"fit\" or stage is None:\n",
    "    train_features = all_features[:n_train]\n",
    "    train_labels = train_data.SalePrice\n",
    "    if self.kfold:\n",
    "      # 使用 k-fold 验证\n",
    "      kf = KFold(self.num_folds)\n",
    "      train_indices, val_indices = list(kf.split(train_features))[0]\n",
    "      len(train_indices), len(val_indices)\n",
    "      self.train_features = train_features.iloc[train_indices]\n",
    "      self.train_labels = train_labels.iloc[train_indices]\n",
    "      self.val_features = train_features.iloc[val_indices]\n",
    "      self.val_labels = train_labels.iloc[val_indices]\n",
    "    else:\n",
    "      # 直接进行训练，不设置验证集\n",
    "      self.train_features = train_features\n",
    "      self.train_labels = train_labels\n",
    "      self.val_features = None\n",
    "      self.val_labels = None\n",
    "  if stage == \"test\" or stage is None:\n",
    "    self.test_features = all_features[n_train:].values"
   ]
  },
  {
   "cell_type": "code",
   "execution_count": 153,
   "metadata": {},
   "outputs": [],
   "source": [
    "@add_to_class(KaggleDataModel)\n",
    "def train_dataloader(self):\n",
    "  return DataLoader(\n",
    "    TensorDataset(\n",
    "      torch.tensor(self.train_features.values, dtype=torch.float32),\n",
    "      torch.tensor(self.train_labels.values, dtype=torch.float32).reshape(-1,1)\n",
    "    ), \n",
    "    batch_size=self.batch_size, shuffle=True,\n",
    "    pin_memory=True, num_workers=self.num_workers)\n",
    "  \n",
    "@add_to_class(KaggleDataModel)\n",
    "def val_dataloader(self):\n",
    "  if self.val_features is None:\n",
    "    return DataLoader(\n",
    "      TensorDataset(\n",
    "        torch.tensor(self.train_features.sample(frac=0.1, random_state=1).values, dtype=torch.float32),\n",
    "        torch.tensor(self.train_labels.sample(frac=0.1, random_state=1).values, dtype=torch.float32).reshape(-1,1)\n",
    "      ),\n",
    "      batch_size=self.batch_size, shuffle=False,\n",
    "      pin_memory=True, num_workers=self.num_workers\n",
    "    )\n",
    "  else:\n",
    "    return DataLoader(\n",
    "      TensorDataset(\n",
    "        torch.tensor(self.val_features.values, dtype=torch.float32),\n",
    "        torch.tensor(self.val_labels.values, dtype=torch.float32).reshape(-1,1)\n",
    "      ), \n",
    "      batch_size=self.batch_size, shuffle=False,\n",
    "      pin_memory=True, num_workers=self.num_workers)\n",
    "    \n",
    "@add_to_class(KaggleDataModel)\n",
    "def test_dataloader(self):\n",
    "  return DataLoader(\n",
    "    TensorDataset(torch.tensor(self.test_features.values, dtype=torch.float32)), \n",
    "    batch_size=self.batch_size, shuffle=False,\n",
    "    pin_memory=True, num_workers=self.num_workers)"
   ]
  },
  {
   "cell_type": "code",
   "execution_count": 101,
   "metadata": {},
   "outputs": [],
   "source": [
    "class KaggleModel(pl.LightningModule):\n",
    "  def __init__(self, batch_size=64, learning_rate=1, weight_decay=1e-4, hidden_size=1024):\n",
    "    super().__init__()\n",
    "    self.batch_size = batch_size\n",
    "    self.hidden_size = hidden_size\n",
    "    self.lr = learning_rate\n",
    "    self.weight_decay = weight_decay\n",
    "    self.input_size = 330\n",
    "    self.output_size = 1"
   ]
  },
  {
   "cell_type": "code",
   "execution_count": 102,
   "metadata": {},
   "outputs": [],
   "source": [
    "@add_to_class(KaggleModel)\n",
    "def init_weight(self, m):\n",
    "  if isinstance(m, nn.Linear):\n",
    "    nn.init.kaiming_normal_(m.weight, nonlinearity='relu')"
   ]
  },
  {
   "cell_type": "code",
   "execution_count": 113,
   "metadata": {},
   "outputs": [],
   "source": [
    "@add_to_class(KaggleModel)\n",
    "def setup(self, stage=None):\n",
    "  self.net = nn.Sequential(\n",
    "    nn.Linear(self.input_size, self.hidden_size),\n",
    "    nn.ReLU(),\n",
    "    nn.Linear(self.hidden_size, self.output_size)\n",
    "  )\n",
    "  self.net.apply(self.init_weight)"
   ]
  },
  {
   "cell_type": "code",
   "execution_count": 104,
   "metadata": {},
   "outputs": [],
   "source": [
    "@add_to_class(KaggleModel)\n",
    "def forward(self, X):\n",
    "  return self.net(X)"
   ]
  },
  {
   "cell_type": "code",
   "execution_count": 105,
   "metadata": {},
   "outputs": [],
   "source": [
    "import torch.nn.functional as F"
   ]
  },
  {
   "cell_type": "code",
   "execution_count": 158,
   "metadata": {},
   "outputs": [],
   "source": [
    "def log_mse_loss(preds, labels):\n",
    "  clipped_preds = torch.clamp(preds, 1, float('inf'))\n",
    "  mse = torch.sqrt(F.mse_loss(torch.log(clipped_preds), torch.log(labels)))\n",
    "  return mse"
   ]
  },
  {
   "cell_type": "code",
   "execution_count": 160,
   "metadata": {},
   "outputs": [],
   "source": [
    "@add_to_class(KaggleModel)\n",
    "def training_step(self, batch):\n",
    "  features, labels = batch\n",
    "  preds = self(features)\n",
    "  loss = log_mse_loss(preds, labels)\n",
    "  self.log(\"train_loss\", loss)\n",
    "  return loss"
   ]
  },
  {
   "cell_type": "code",
   "execution_count": 108,
   "metadata": {},
   "outputs": [],
   "source": [
    "@add_to_class(KaggleModel)\n",
    "def validation_step(self, batch):\n",
    "  features, labels = batch\n",
    "  preds = self(features)\n",
    "  loss = log_mse_loss(preds, labels)\n",
    "  self.log(\"val_loss\", loss)\n",
    "  return loss"
   ]
  },
  {
   "cell_type": "code",
   "execution_count": 109,
   "metadata": {},
   "outputs": [],
   "source": [
    "@add_to_class(KaggleModel)\n",
    "def test_step(self, batch):\n",
    "  features, labels = batch\n",
    "  preds = self(features)\n",
    "  loss = log_mse_loss(preds, labels)\n",
    "  self.log(\"test_loss\", loss)\n",
    "  return loss"
   ]
  },
  {
   "cell_type": "code",
   "execution_count": 115,
   "metadata": {},
   "outputs": [],
   "source": [
    "@add_to_class(KaggleModel)\n",
    "def configure_optimizers(self):\n",
    "  return optim.Adam(self.parameters(),\n",
    "                    lr=self.lr,\n",
    "                    weight_decay=self.weight_decay)"
   ]
  },
  {
   "cell_type": "code",
   "execution_count": 111,
   "metadata": {},
   "outputs": [],
   "source": [
    "torch.set_float32_matmul_precision('high')"
   ]
  },
  {
   "cell_type": "code",
   "execution_count": null,
   "metadata": {},
   "outputs": [],
   "source": [
    "data = KaggleDataModel()\n",
    "# model = KaggleModel()\n",
    "trainer = pl.Trainer(max_epochs=50, log_every_n_steps=1)\n",
    "\n",
    "for fold in range(data.num_folds):\n",
    "  data.current_fold = fold\n",
    "  data.setup()\n",
    "  model = KaggleModel(batch_size=256, learning_rate=1, weight_decay=1e-4, hidden_size=1024)\n",
    "  trainer.fit(model, datamodule=data)"
   ]
  },
  {
   "cell_type": "code",
   "execution_count": null,
   "metadata": {},
   "outputs": [],
   "source": [
    "data = KaggleDataModel(kfold=False)\n",
    "model = KaggleModel(batch_size=64, learning_rate=10, weight_decay=1e-4, hidden_size=1024)\n",
    "trainer = pl.Trainer(max_epochs=50, log_every_n_steps=1)\n",
    "trainer.fit(model, datamodule=data)"
   ]
  },
  {
   "cell_type": "code",
   "execution_count": null,
   "metadata": {},
   "outputs": [],
   "source": []
  }
 ],
 "metadata": {
  "celltoolbar": "Slideshow",
  "kernelspec": {
   "display_name": "d2l",
   "language": "python",
   "name": ".venv"
  },
  "language_info": {
   "codemirror_mode": {
    "name": "ipython",
    "version": 3
   },
   "file_extension": ".py",
   "mimetype": "text/x-python",
   "name": "python",
   "nbconvert_exporter": "python",
   "pygments_lexer": "ipython3",
   "version": "3.11.5"
  },
  "required_libs": [],
  "rise": {
   "autolaunch": true,
   "enable_chalkboard": true,
   "overlay": "<div class='my-top-right'><img height=80px src='http://d2l.ai/_static/logo-with-text.png'/></div><div class='my-top-left'></div>",
   "scroll": true
  }
 },
 "nbformat": 4,
 "nbformat_minor": 5
}
