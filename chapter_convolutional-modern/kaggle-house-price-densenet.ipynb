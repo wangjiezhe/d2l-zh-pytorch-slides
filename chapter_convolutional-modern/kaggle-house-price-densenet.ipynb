{
 "cells": [
  {
   "cell_type": "code",
   "execution_count": 1,
   "metadata": {},
   "outputs": [],
   "source": [
    "import time\n",
    "import os.path\n",
    "\n",
    "import pandas as pd\n",
    "import pytorch_lightning as pl\n",
    "import torch\n",
    "import torch.nn.functional as F\n",
    "from pytorch_lightning.callbacks import ModelCheckpoint\n",
    "from torch import nn, optim\n",
    "from torch.utils.data import DataLoader, TensorDataset"
   ]
  },
  {
   "cell_type": "code",
   "execution_count": 2,
   "metadata": {},
   "outputs": [],
   "source": [
    "torch.set_float32_matmul_precision(\"medium\")"
   ]
  },
  {
   "cell_type": "code",
   "execution_count": 3,
   "metadata": {},
   "outputs": [],
   "source": [
    "from torchmetrics.regression import MeanSquaredLogError"
   ]
  },
  {
   "cell_type": "code",
   "execution_count": null,
   "metadata": {},
   "outputs": [],
   "source": [
    "from sklearn.model_selection import KFold"
   ]
  },
  {
   "cell_type": "code",
   "execution_count": 4,
   "metadata": {},
   "outputs": [],
   "source": [
    "def add_to_class(Class):\n",
    "    \"\"\"Register functions as methods in created class.\"\"\"\n",
    "    def wrapper(obj):\n",
    "        setattr(Class, obj.__name__, obj)\n",
    "    return wrapper"
   ]
  },
  {
   "cell_type": "code",
   "execution_count": 28,
   "metadata": {},
   "outputs": [],
   "source": [
    "class KaggleData(pl.LightningDataModule):\n",
    "    def __init__(self, batch_size=64, data_dir=\"../data\",\n",
    "                 train_csv='kaggle_house_pred_train.csv',\n",
    "                 test_csv='kaggle_house_pred_test.csv',\n",
    "                 num_workers=8):\n",
    "        super().__init__()\n",
    "        self.train_data_path = os.path.join(data_dir, train_csv)\n",
    "        self.test_data_path = os.path.join(data_dir, test_csv)\n",
    "        self.batch_size = batch_size\n",
    "        self.num_workers = num_workers\n",
    "    \n",
    "    def prepare_data(self):\n",
    "        # 读取数据\n",
    "        self.origin_train_data = pd.read_csv(self.train_data_path)\n",
    "        self.origin_test_data = pd.read_csv(self.test_data_path)\n",
    "        self.test_data_id = self.origin_test_data[\"Id\"]\n",
    "\n",
    "        # 标准化数据 x <- (x - μ) / σ\n",
    "        all_features = pd.concat((self.origin_train_data.iloc[:, 1:-1], self.origin_test_data.iloc[:, 1:]))\n",
    "        numeric_features = all_features.dtypes[all_features.dtypes != \"object\"].index\n",
    "        all_features[numeric_features] = all_features[numeric_features].apply(\n",
    "            lambda x: (x - x.mean()) / (x.std())\n",
    "        )\n",
    "        all_features[numeric_features] = all_features[numeric_features].fillna(0)\n",
    "\n",
    "        # 对离散值使用 One-Hot Encoding\n",
    "        self.all_features = pd.get_dummies(all_features, dummy_na=True, dtype=int)\n",
    "\n",
    "    def setup(self, stage=None):\n",
    "        # 构造数据\n",
    "        n_train = self.origin_train_data.shape[0]\n",
    "        if stage == \"fit\" or stage is None:\n",
    "            train_features = self.all_features[:n_train].values\n",
    "            train_labels = self.origin_train_data.SalePrice.values\n",
    "            self.train_data = TensorDataset(\n",
    "                torch.tensor(train_features, dtype=torch.float32),\n",
    "                torch.tensor(train_labels, dtype=torch.float32).reshape(-1, 1),\n",
    "            )\n",
    "        if stage == \"predict\" or stage is None:\n",
    "            predict_features = self.all_features[n_train:].values\n",
    "            self.predict_data = TensorDataset(torch.tensor(predict_features, dtype=torch.float32))\n",
    "\n",
    "    def train_dataloader(self):\n",
    "        return DataLoader(self.train_data, batch_size=self.batch_size,\n",
    "                            shuffle=True, pin_memory=True, num_workers=self.num_workers)\n",
    "\n",
    "    def predict_dataloader(self):\n",
    "        return DataLoader(\n",
    "            self.predict_data, batch_size=self.batch_size,\n",
    "            shuffle=False, pin_memory=True, num_workers=self.num_workers)"
   ]
  },
  {
   "cell_type": "code",
   "execution_count": 29,
   "metadata": {},
   "outputs": [],
   "source": [
    "class KaggleData_KFold(KaggleData):\n",
    "    def __init__(self, num_folds=5):\n",
    "        super().__init__()\n",
    "        self.num_folds = num_folds\n",
    "        self.current_fold = 0\n",
    "        \n",
    "    def setup(self, stage=None):\n",
    "        n_train = self.origin_train_data.shape[0]\n",
    "        features = self.all_features[:n_train]\n",
    "        labels = self.origin_train_data.SalePrice\n",
    "        # 使用 k-fold 验证\n",
    "        kf = KFold(self.num_folds)\n",
    "        train_indices, val_indices = list(kf.split(features))[0]\n",
    "        len(train_indices), len(val_indices)\n",
    "        train_features = features.iloc[train_indices]\n",
    "        train_labels = labels.iloc[train_indices]\n",
    "        val_features = features.iloc[val_indices]\n",
    "        val_labels = labels.iloc[val_indices]\n",
    "\n",
    "        if stage == \"fit\" or stage is None:\n",
    "            self.train_data = TensorDataset(\n",
    "                torch.tensor(train_features, dtype=torch.float32),\n",
    "                torch.tensor(train_labels, dtype=torch.float32).reshape(-1, 1),\n",
    "            )\n",
    "            self.val_data = TensorDataset(\n",
    "                torch.tensor(val_features, dtype=torch.float32),\n",
    "                torch.tensor(val_labels, dtype=torch.float32).reshape(-1, 1),\n",
    "            )\n",
    "        elif stage == 'test':\n",
    "            self.test_data = TensorDataset(\n",
    "                torch.tensor(val_features, dtype=torch.float32),\n",
    "                torch.tensor(val_labels, dtype=torch.float32).reshape(-1, 1),\n",
    "            )\n",
    "            \n",
    "    def val_dataloader(self):\n",
    "        return DataLoader(\n",
    "            self.val_data, batch_size=self.batch_size, \n",
    "            shuffle=True, pin_memory=True, num_workers=self.num_workers)"
   ]
  },
  {
   "cell_type": "code",
   "execution_count": 32,
   "metadata": {},
   "outputs": [],
   "source": [
    "data = KaggleData()\n",
    "data.prepare_data()\n",
    "data.setup()"
   ]
  },
  {
   "cell_type": "code",
   "execution_count": 39,
   "metadata": {},
   "outputs": [],
   "source": [
    "dummy_batch = next(iter(data.train_dataloader()))"
   ]
  },
  {
   "cell_type": "code",
   "execution_count": 40,
   "metadata": {},
   "outputs": [
    {
     "data": {
      "text/plain": [
       "2"
      ]
     },
     "execution_count": 40,
     "metadata": {},
     "output_type": "execute_result"
    }
   ],
   "source": [
    "len(dummy_batch)"
   ]
  },
  {
   "cell_type": "code",
   "execution_count": 41,
   "metadata": {},
   "outputs": [],
   "source": [
    "x = dummy_batch[0][0]\n",
    "y = dummy_batch[1][0]"
   ]
  },
  {
   "cell_type": "code",
   "execution_count": 42,
   "metadata": {},
   "outputs": [
    {
     "data": {
      "text/plain": [
       "(torch.Size([330]), torch.Size([1]))"
      ]
     },
     "execution_count": 42,
     "metadata": {},
     "output_type": "execute_result"
    }
   ],
   "source": [
    "x.shape, y.shape"
   ]
  },
  {
   "cell_type": "code",
   "execution_count": 46,
   "metadata": {},
   "outputs": [],
   "source": [
    "class KaggleClassifier(pl.LightningModule):\n",
    "    def __init__(self, lr=0.1, momentum=0.9, weight_decay=1e-5):\n",
    "        super().__init__()\n",
    "        self.save_hyperparameters()\n",
    "        self.train_loss = MeanSquaredLogError()\n",
    "        self.val_loss = MeanSquaredLogError()\n",
    "        self.test_loss = MeanSquaredLogError()\n",
    "\n",
    "    def training_step(self, batch):\n",
    "        features, labels = batch\n",
    "        preds = self(features)\n",
    "        loss = self.train_loss(preds, labels)\n",
    "        self.log(\"train_loss\", loss, prog_bar=True)\n",
    "        return loss\n",
    "\n",
    "    def validation_step(self, batch):\n",
    "        features, labels = batch\n",
    "        preds = self(features)\n",
    "        loss = self.val_loss(preds, labels)\n",
    "        self.log(\"val_loss\", loss, prog_bar=True)\n",
    "        return loss\n",
    "    \n",
    "    def test_step(self, batch):\n",
    "        features, labels = batch\n",
    "        preds = self(features)\n",
    "        loss = self.test_loss(preds, labels)\n",
    "        self.log(\"test_loss\", loss, prog_bar=True)\n",
    "        return loss\n",
    "    \n",
    "    def configure_optimizers(self):\n",
    "        return optim.SGD(self.parameters(), lr=self.hparams.lr, momentum=self.hparams.momentum, weight_decay=self.hparams.weight_decay)\n",
    "\n",
    "    def on_test_end(self):\n",
    "        self.logger.log_hyperparams(self.hparams, \n",
    "                                    {\"hp/train_loss\": self.train_loss.compute(), \n",
    "                                     \"hp/val_acc\": self.val_acc.compute(), \n",
    "                                     \"hp/test_acc\": self.test_acc.compute()})"
   ]
  },
  {
   "cell_type": "code",
   "execution_count": null,
   "metadata": {},
   "outputs": [],
   "source": []
  }
 ],
 "metadata": {
  "kernelspec": {
   "display_name": "d2l",
   "language": "python",
   "name": "d2l"
  },
  "language_info": {
   "codemirror_mode": {
    "name": "ipython",
    "version": 3
   },
   "file_extension": ".py",
   "mimetype": "text/x-python",
   "name": "python",
   "nbconvert_exporter": "python",
   "pygments_lexer": "ipython3",
   "version": "3.11.6"
  }
 },
 "nbformat": 4,
 "nbformat_minor": 2
}
